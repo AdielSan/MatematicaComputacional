{
 "cells": [
  {
   "cell_type": "markdown",
   "metadata": {},
   "source": [
    "                                        Adiel Dos Santos Nascimento - 201504940002"
   ]
  },
  {
   "cell_type": "markdown",
   "metadata": {},
   "source": [
    "Índice"
   ]
  },
  {
   "cell_type": "markdown",
   "metadata": {},
   "source": [
    "-[Atividade 1](#Atividade1)\n",
    "\n",
    "-[Atividade 2](#Atividade2)\n",
    "\n",
    "-[Atividade 3](#Atividade3)"
   ]
  },
  {
   "cell_type": "markdown",
   "metadata": {},
   "source": [
    "# Atividade1\n"
   ]
  },
  {
   "cell_type": "markdown",
   "metadata": {},
   "source": [
    "Reproduzir código do slide e explicar o funcionamento do mesmo:"
   ]
  },
  {
   "cell_type": "code",
   "execution_count": 3,
   "metadata": {},
   "outputs": [
    {
     "name": "stdout",
     "output_type": "stream",
     "text": [
      "[0. 1. 2. 3.] [ 0.  23.4 46.8 70.2] [10.   21.7  25.6  27.55]\n"
     ]
    }
   ],
   "source": [
    "import numpy\n",
    "\n",
    "a = numpy.arange(4.0)\n",
    "b = a * 23.4\n",
    "c = b/(a+1)\n",
    "c += 10\n",
    "print (a,b,c)"
   ]
  },
  {
   "cell_type": "code",
   "execution_count": 5,
   "metadata": {},
   "outputs": [
    {
     "name": "stdout",
     "output_type": "stream",
     "text": [
      "[100 101 102 103 104 105 106 107 108 109 110 111 112 113 114 115 116 117\n",
      " 118 119 120 121 122 123 124 125 126 127 128 129 130 131 132 133 134 135\n",
      " 136 137 138 139 140 141 142 143 144 145 146 147 148 149 150 151 152 153\n",
      " 154 155 156 157 158 159 160 161 162 163 164 165 166 167 168 169 170 171\n",
      " 172 173 174 175 176 177 178 179 180 181 182 183 184 185 186 187 188 189\n",
      " 190 191 192 193 194 195 196 197 198 199]\n",
      "[105 125 150 175 195]\n"
     ]
    }
   ],
   "source": [
    "import numpy\n",
    "\n",
    "arr = numpy.arange(100, 200) # Retorna valores uniformemente espaçados dentro de um determinado intervalo\n",
    "print(arr)\n",
    "select = [5, 25, 50, 75, -5]\n",
    "print(arr[select]) #Mostra os valores que estão nos indices escolhidos"
   ]
  },
  {
   "cell_type": "code",
   "execution_count": 9,
   "metadata": {},
   "outputs": [
    {
     "name": "stdout",
     "output_type": "stream",
     "text": [
      "[False False  True False False  True False False  True False]\n",
      "[12 15 18]\n"
     ]
    }
   ],
   "source": [
    "import numpy\n",
    "\n",
    "arr = numpy.arange(10, 20)\n",
    "div_by_3 = arr%3 == 0 # comparison produces boolean array\n",
    "print(div_by_3)\n",
    "print(arr[div_by_3]) # can use boolean lists as indices"
   ]
  },
  {
   "cell_type": "code",
   "execution_count": 7,
   "metadata": {},
   "outputs": [
    {
     "name": "stdout",
     "output_type": "stream",
     "text": [
      "[[10 11 12 13 14]\n",
      " [15 16 17 18 19]]\n"
     ]
    }
   ],
   "source": [
    "import numpy\n",
    "\n",
    "arr = numpy.arange(10, 20) . reshape((2,5))\n",
    "print(arr)"
   ]
  },
  {
   "cell_type": "markdown",
   "metadata": {},
   "source": [
    "# Atividade2"
   ]
  },
  {
   "cell_type": "markdown",
   "metadata": {},
   "source": [
    "Desenhar linhas paralelas e com interseção usando o linspace e matplot:"
   ]
  },
  {
   "cell_type": "code",
   "execution_count": 93,
   "metadata": {},
   "outputs": [
    {
     "data": {
      "image/png": "[encoded data removed]",
      "text/plain": [
       "<Figure size 432x288 with 1 Axes>"
      ]
     },
     "metadata": {},
     "output_type": "display_data"
    }
   ],
   "source": [
    "import matplotlib.pylab as plt\n",
    "import numpy as np\n",
    "\n",
    "x1 = plt.linspace(0, 10, 10)\n",
    "x2 = plt.linspace(0, 10, 10)\n",
    "\n",
    "y1 = np.zeros(10)\n",
    "y2 = np.zeros(10)\n",
    "\n",
    "plt.figure()\n",
    "plt.plot(x1, y1+1, 'b')\n",
    "plt.plot(x2, y2+2, 'r')\n",
    "plt.xlabel('x')\n",
    "plt.ylabel('y')\n",
    "plt.title('title')\n",
    "plt.show()"
   ]
  },
  {
   "cell_type": "code",
   "execution_count": 89,
   "metadata": {},
   "outputs": [
    {
     "data": {
      "image/png": "[encoded data removed]",
      "text/plain": [
       "<Figure size 432x288 with 1 Axes>"
      ]
     },
     "metadata": {},
     "output_type": "display_data"
    }
   ],
   "source": [
    "import matplotlib.pylab as plt\n",
    "import numpy as np\n",
    "\n",
    "x1 = plt.linspace(0, 10, 10)\n",
    "x2 = plt.linspace(0, 10, 10)\n",
    "\n",
    "y1 = plt.linspace(0,10,10)\n",
    "y2 = plt.linspace(10,0,10)\n",
    "\n",
    "plt.figure()\n",
    "plt.plot(x1, y1, 'b')\n",
    "plt.plot(x2, y2, 'r')\n",
    "plt.xlabel('x')\n",
    "plt.ylabel('y')\n",
    "plt.title('title')\n",
    "plt.show()"
   ]
  },
  {
   "cell_type": "markdown",
   "metadata": {},
   "source": [
    "# Atividade3"
   ]
  },
  {
   "cell_type": "markdown",
   "metadata": {},
   "source": [
    "Desenvolver um programa para converter a parte inteira e resto de um número para binário:"
   ]
  },
  {
   "cell_type": "markdown",
   "metadata": {},
   "source": [
    "# Decimal -> Binário"
   ]
  },
  {
   "cell_type": "code",
   "execution_count": 47,
   "metadata": {},
   "outputs": [
    {
     "name": "stdout",
     "output_type": "stream",
     "text": [
      "Digite um valor para realizar a conversão: 7.7\n",
      "Valor em Binário: 111.111\n"
     ]
    }
   ],
   "source": [
    "\n",
    "n = (input('Digite um valor para realizar a conversão: '))\n",
    "\n",
    "status = ('.' in n)\n",
    "\n",
    "if  status == False:\n",
    "    print('Valor em Binário: {}'.format(bin(int(n))[2:]))\n",
    "\n",
    "if  status == True:    \n",
    "    ind = [n.index('.')]\n",
    "    index = int(ind[0])\n",
    "\n",
    "    PartInt = int (n[:index])\n",
    "    PartRes = int (n[index+1:])\n",
    "\n",
    "    BinInt = bin(PartInt)\n",
    "    BinRes = bin(PartRes)\n",
    "\n",
    "    print('Valor em Binário: {}.{}'.format(BinInt[2:],BinRes[2:]))\n",
    "\n"
   ]
  },
  {
   "cell_type": "markdown",
   "metadata": {},
   "source": [
    "# Binário -> Decimal"
   ]
  },
  {
   "cell_type": "code",
   "execution_count": 49,
   "metadata": {},
   "outputs": [
    {
     "name": "stdout",
     "output_type": "stream",
     "text": [
      "Digite um valor para realizar a conversão: 111.111\n",
      "Valor em Decimal: 7.7\n"
     ]
    }
   ],
   "source": [
    "n = (input('Digite um valor para realizar a conversão: '))\n",
    "\n",
    "status = ('.' in n)\n",
    "\n",
    "if  status == False:\n",
    "    print('Valor em Decimal: {}'.format(int(n,2)))\n",
    "\n",
    "if  status == True:\n",
    "    ind = [n.index('.')]\n",
    "    index = int(ind[0])\n",
    "    \n",
    "    BinInt = (n[:index])\n",
    "    BinRes = (n[index+1:])\n",
    "\n",
    "    IntInt = int(BinInt,2)\n",
    "    IntRes = int(BinRes,2)\n",
    "\n",
    "    print('Valor em Decimal: {}.{}'.format(IntInt,IntRes))"
   ]
  },
  {
   "cell_type": "code",
   "execution_count": null,
   "metadata": {},
   "outputs": [],
   "source": []
  }
 ],
 "metadata": {
  "kernelspec": {
   "display_name": "Python 3",
   "language": "python",
   "name": "python3"
  },
  "language_info": {
   "codemirror_mode": {
    "name": "ipython",
    "version": 3
   },
   "file_extension": ".py",
   "mimetype": "text/x-python",
   "name": "python",
   "nbconvert_exporter": "python",
   "pygments_lexer": "ipython3",
   "version": "3.6.5"
  }
 },
 "nbformat": 4,
 "nbformat_minor": 2
}
