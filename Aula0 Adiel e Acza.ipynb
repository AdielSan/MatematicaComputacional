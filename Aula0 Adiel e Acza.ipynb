{
 "cells": [
  {
   "cell_type": "markdown",
   "metadata": {},
   "source": [
    "Matemática Computacional - 2018.2"
   ]
  },
  {
   "cell_type": "markdown",
   "metadata": {},
   "source": [
    "Acza Lira Silva - 201704940024\n",
    "\n",
    "Adiel Dos Santos Nascimento - 201504940002"
   ]
  },
  {
   "cell_type": "markdown",
   "metadata": {},
   "source": [
    "Índice"
   ]
  },
  {
   "cell_type": "markdown",
   "metadata": {},
   "source": [
    "- [Aula1](#Aula1)\n",
    "    - [Exercicio1](#Exercicio1)"
   ]
  },
  {
   "cell_type": "markdown",
   "metadata": {},
   "source": [
    "# Aula1  - 31/08"
   ]
  },
  {
   "cell_type": "markdown",
   "metadata": {},
   "source": [
    "# Exercicio1"
   ]
  },
  {
   "cell_type": "markdown",
   "metadata": {},
   "source": [
    "->Tuplas são definiadas usando parênteses \n",
    "--> Tuplas são imutáveis "
   ]
  },
  {
   "cell_type": "code",
   "execution_count": 34,
   "metadata": {},
   "outputs": [
    {
     "name": "stdout",
     "output_type": "stream",
     "text": [
      "Imprime os valores da tupla: (23, 'abc', 4.56, (2, 3), 'def')\n",
      "Imprime os valores no intervalo definido dos indices: ('abc', 4.56, (2, 3))\n",
      "Imprime os valores em ordem decrescente a partir do último valor: def\n",
      "Imprime do inicio até o indice 3: (23, 'abc', 4.56)\n",
      "Imprime do indice 1 até o final: ('abc', 4.56, (2, 3), 'def')\n"
     ]
    }
   ],
   "source": [
    "#Cria uma tupla\n",
    "t = (23, 'abc', 4.56, (2,3), 'def')\n",
    "\n",
    "print ('Imprime os valores da tupla:' , t)\n",
    "\n",
    "print ('Imprime os valores no intervalo definido dos indices:' , t[1:4])\n",
    "\n",
    "print ('Imprime os valores em ordem decrescente a partir do último valor:' , t[-1]) \n",
    "\n",
    "print ('Imprime do inicio até o indice 3:' , t[:3])\n",
    "\n",
    "print ('Imprime do indice 1 até o final:', t[1:])"
   ]
  },
  {
   "cell_type": "markdown",
   "metadata": {},
   "source": [
    "# Exercicio 2"
   ]
  },
  {
   "cell_type": "code",
   "execution_count": 44,
   "metadata": {},
   "outputs": [
    {
     "name": "stdout",
     "output_type": "stream",
     "text": [
      "[[ 0.90589184  0.81043004  0.041992    0.76059542  0.33072245  0.6643741\n",
      "   0.18522641  0.44125885  0.79751312  0.76787854]\n",
      " [ 0.60081077  0.6843405   0.57271705  0.51763226  0.26046291  0.15202063\n",
      "   0.65315444  0.19781517  0.74132197  0.0362927 ]\n",
      " [ 0.88321919  0.46532868  0.48732066  0.28384817  0.60705695  0.42389036\n",
      "   0.9247158   0.97451228  0.4412072   0.244886  ]\n",
      " [ 0.20609259  0.71925599  0.91894949  0.36018886  0.54727355  0.16705799\n",
      "   0.77830354  0.91233902  0.32268945  0.76890637]\n",
      " [ 0.62012975  0.04862406  0.86470944  0.0302369   0.29371732  0.29750122\n",
      "   0.95729672  0.32408687  0.15510774  0.42199229]\n",
      " [ 0.47343937  0.37283938  0.19686142  0.47939087  0.1428485   0.60286601\n",
      "   0.35258677  0.44388216  0.82433133  0.50845593]\n",
      " [ 0.12909402  0.32357108  0.72330458  0.99500216  0.96767324  0.04718313\n",
      "   0.04561909  0.46516435  0.82374457  0.11450544]\n",
      " [ 0.62776227  0.45228298  0.10803965  0.97304176  0.99599206  0.69331993\n",
      "   0.79267266  0.06300508  0.52119576  0.15010568]\n",
      " [ 0.59830307  0.66244294  0.36669381  0.16245963  0.26216407  0.55540414\n",
      "   0.18573126  0.58654781  0.755489    0.5477317 ]\n",
      " [ 0.45398027  0.78414953  0.18183773  0.06335903  0.65389126  0.52555086\n",
      "   0.17950268  0.02019118  0.95598016  0.18778751]]\n"
     ]
    },
    {
     "data": {
      "image/png": "[encoded data removed]",
      "text/plain": [
       "<matplotlib.figure.Figure at 0x1f9e8140358>"
      ]
     },
     "metadata": {},
     "output_type": "display_data"
    },
    {
     "data": {
      "text/plain": [
       "array([[ 0.90589184,  0.81043004,  0.041992  ,  0.76059542,  0.33072245,\n",
       "         0.6643741 ,  0.18522641,  0.44125885,  0.79751312,  0.76787854],\n",
       "       [ 0.60081077,  0.6843405 ,  0.57271705,  0.51763226,  0.26046291,\n",
       "         0.15202063,  0.65315444,  0.19781517,  0.74132197,  0.0362927 ],\n",
       "       [ 0.88321919,  0.46532868,  0.48732066,  0.28384817,  0.60705695,\n",
       "         0.42389036,  0.9247158 ,  0.97451228,  0.4412072 ,  0.244886  ],\n",
       "       [ 0.20609259,  0.71925599,  0.91894949,  0.36018886,  0.54727355,\n",
       "         0.16705799,  0.77830354,  0.91233902,  0.32268945,  0.76890637],\n",
       "       [ 0.62012975,  0.04862406,  0.86470944,  0.0302369 ,  0.29371732,\n",
       "         0.29750122,  0.95729672,  0.32408687,  0.15510774,  0.42199229],\n",
       "       [ 0.47343937,  0.37283938,  0.19686142,  0.47939087,  0.1428485 ,\n",
       "         0.60286601,  0.35258677,  0.44388216,  0.82433133,  0.50845593],\n",
       "       [ 0.12909402,  0.32357108,  0.72330458,  0.99500216,  0.96767324,\n",
       "         0.04718313,  0.04561909,  0.46516435,  0.82374457,  0.11450544],\n",
       "       [ 0.62776227,  0.45228298,  0.10803965,  0.97304176,  0.99599206,\n",
       "         0.69331993,  0.79267266,  0.06300508,  0.52119576,  0.15010568],\n",
       "       [ 0.59830307,  0.66244294,  0.36669381,  0.16245963,  0.26216407,\n",
       "         0.55540414,  0.18573126,  0.58654781,  0.755489  ,  0.5477317 ],\n",
       "       [ 0.45398027,  0.78414953,  0.18183773,  0.06335903,  0.65389126,\n",
       "         0.52555086,  0.17950268,  0.02019118,  0.95598016,  0.18778751]])"
      ]
     },
     "execution_count": 44,
     "metadata": {},
     "output_type": "execute_result"
    }
   ],
   "source": [
    "import numpy as np\n",
    "import matplotlib.pyplot as plt\n",
    "\n",
    "m = np.random.rand(10,10)\n",
    "print (m)\n",
    "\n",
    "plt.matshow(m)\n",
    "plt.show()\n",
    "\n",
    "np.save('m.npy',m)\n",
    "np.load('m.npy')"
   ]
  }
 ],
 "metadata": {
  "kernelspec": {
   "display_name": "Python 3",
   "language": "python",
   "name": "python3"
  },
  "language_info": {
   "codemirror_mode": {
    "name": "ipython",
    "version": 3
   },
   "file_extension": ".py",
   "mimetype": "text/x-python",
   "name": "python",
   "nbconvert_exporter": "python",
   "pygments_lexer": "ipython3",
   "version": "3.6.2"
  }
 },
 "nbformat": 4,
 "nbformat_minor": 2
}
